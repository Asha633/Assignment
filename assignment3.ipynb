{
 "cells": [
  {
   "cell_type": "code",
   "execution_count": 1,
   "metadata": {},
   "outputs": [],
   "source": [
    "# my own reduce function\n",
    "\n",
    "def myreduce( add,local_list):\n",
    "   # print(\"entered\")\n",
    "    x=local_list[0]\n",
    "    #print(\"fisrt no\",x)\n",
    "    for i in range(1,len(local_list)) :\n",
    "      #  print(local_list[i])\n",
    "        t=add(x,local_list[i])\n",
    "        x=t\n",
    "        \n",
    "   # print(t)\n",
    "    return t\n",
    "        \n",
    "    \n",
    "def add(x,y):\n",
    "    return x+y"
   ]
  },
  {
   "cell_type": "code",
   "execution_count": 14,
   "metadata": {},
   "outputs": [
    {
     "name": "stdout",
     "output_type": "stream",
     "text": [
      "total 66\n"
     ]
    }
   ],
   "source": [
    "#CALLING MYREDUCE() FOR TOTAL VALUE OF A LIST DATA\n",
    "\n",
    "lst=[11,22,33]\n",
    "x=myreduce(add,lst)\n",
    "print(\"total\",x )\n"
   ]
  },
  {
   "cell_type": "code",
   "execution_count": 3,
   "metadata": {},
   "outputs": [],
   "source": [
    "#my filter function\n",
    "\n",
    "\n",
    "def myfilter(string_only,mylist):\n",
    "    llist=[]\n",
    "    for i in range(len(mylist)):\n",
    "        if string_only(mylist[i]) == True :\n",
    "            llist.append(mylist[i])\n",
    "        else :\n",
    "            continue\n",
    "    return llist\n",
    "\n",
    "\n",
    "def string_only(x):\n",
    "    if type(x)== str:\n",
    "        return True\n",
    "    else :\n",
    "        return False"
   ]
  },
  {
   "cell_type": "code",
   "execution_count": 10,
   "metadata": {},
   "outputs": [
    {
     "data": {
      "text/plain": [
       "['aaa', 'bbb', 'ccc', 'ddd']"
      ]
     },
     "execution_count": 10,
     "metadata": {},
     "output_type": "execute_result"
    }
   ],
   "source": [
    "# CALLING MYFILTER() FOR FILTER A LIST FOR ONLY STRING TYPE DATA\n",
    "\n",
    "ulist=[\"aaa\",23,\"bbb\",5.6,\"ccc\",8.999,\"ddd\"]\n",
    "list(myfilter(string_only,ulist))"
   ]
  },
  {
   "cell_type": "code",
   "execution_count": 11,
   "metadata": {},
   "outputs": [],
   "source": [
    "\n",
    "# LIST COMPREHENSION SERIES PRINTING\n",
    "\n"
   ]
  },
  {
   "cell_type": "code",
   "execution_count": 5,
   "metadata": {},
   "outputs": [
    {
     "name": "stdout",
     "output_type": "stream",
     "text": [
      "['x', 'xx', 'xxx', 'xxxx', 'y', 'yy', 'yyy', 'yyyy', 'z', 'zz', 'zzz', 'zzzz']\n"
     ]
    }
   ],
   "source": [
    "pattern=['x','y','z']\n",
    "showlist=[]\n",
    "[showlist.append(pattern[i]*j) for i in range(len(pattern)) for j in range(1,5)]\n",
    "print(showlist)"
   ]
  },
  {
   "cell_type": "code",
   "execution_count": 6,
   "metadata": {},
   "outputs": [
    {
     "data": {
      "text/plain": [
       "['x', 'y', 'z', 'xx', 'yy', 'zz', 'xxx', 'yyy', 'zzz', 'xxxx', 'yyyy', 'zzzz']"
      ]
     },
     "execution_count": 6,
     "metadata": {},
     "output_type": "execute_result"
    }
   ],
   "source": [
    "letters= ['x','y','z']\n",
    "list(letters[i]*j for j in range(1,5) for i in range(len(letters)) )"
   ]
  },
  {
   "cell_type": "code",
   "execution_count": 7,
   "metadata": {},
   "outputs": [
    {
     "data": {
      "text/plain": [
       "[[2], [3], [4], [3], [4], [5], [4], [5], [6]]"
      ]
     },
     "execution_count": 7,
     "metadata": {},
     "output_type": "execute_result"
    }
   ],
   "source": [
    "list([i+j] for i in range(2,5) for j in range(3))"
   ]
  },
  {
   "cell_type": "code",
   "execution_count": 8,
   "metadata": {},
   "outputs": [
    {
     "name": "stdout",
     "output_type": "stream",
     "text": [
      "[[2, 3, 4, 5], [3, 4, 5, 6], [4, 5, 6, 7], [5, 6, 7, 8]]\n"
     ]
    }
   ],
   "source": [
    "s=[]\n",
    "for i in range(2,6):\n",
    "    s.append([i+j for j in range(4)])\n",
    "print(s)"
   ]
  },
  {
   "cell_type": "code",
   "execution_count": 9,
   "metadata": {},
   "outputs": [
    {
     "data": {
      "text/plain": [
       "[(1, 1), (2, 1), (3, 1), (1, 2), (2, 2), (3, 2), (1, 3), (2, 3), (3, 3)]"
      ]
     },
     "execution_count": 9,
     "metadata": {},
     "output_type": "execute_result"
    }
   ],
   "source": [
    "list((j,i) for i in range(1,4) for j in range(1,4))"
   ]
  },
  {
   "cell_type": "code",
   "execution_count": null,
   "metadata": {},
   "outputs": [],
   "source": []
  }
 ],
 "metadata": {
  "kernelspec": {
   "display_name": "Python 3",
   "language": "python",
   "name": "python3"
  },
  "language_info": {
   "codemirror_mode": {
    "name": "ipython",
    "version": 3
   },
   "file_extension": ".py",
   "mimetype": "text/x-python",
   "name": "python",
   "nbconvert_exporter": "python",
   "pygments_lexer": "ipython3",
   "version": "3.8.3"
  }
 },
 "nbformat": 4,
 "nbformat_minor": 4
}
