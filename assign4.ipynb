{
 "cells": [
  {
   "cell_type": "code",
   "execution_count": 51,
   "metadata": {},
   "outputs": [],
   "source": [
    "#Write a Python function which takes a character (i.e. a string of length 1) and returns True if\n",
    "#it is a vowel, False otherwise.\n",
    "\n",
    "def vowelcheck(letter):\n",
    "    l=letter\n",
    "    vl=['a','A','e','E','i','I','o','O','u','U']\n",
    "    for i in vl :\n",
    "        if l == i :\n",
    "            #print(\"its a vowel\")\n",
    "            return True\n",
    "            break\n",
    "        else :\n",
    "            continue\n",
    "            \n",
    "    else :\n",
    "        return False\n",
    "       #print(\"not vowel\")\n",
    "     \n",
    "\n",
    "        "
   ]
  },
  {
   "cell_type": "code",
   "execution_count": 100,
   "metadata": {},
   "outputs": [
    {
     "name": "stdout",
     "output_type": "stream",
     "text": [
      "Enter a letter to check for vowel    :  A\n",
      "yes its a Vowel\n"
     ]
    }
   ],
   "source": [
    "i_letter=input(\"Enter a letter to check for vowel    :  \")\n",
    "if vowelcheck(i_letter) == True :\n",
    "    print(\"yes its a Vowel\")\n",
    "else :\n",
    "    print(\"No its not a Vowel\")\n"
   ]
  },
  {
   "cell_type": "code",
   "execution_count": 99,
   "metadata": {},
   "outputs": [],
   "source": [
    "#Write a Python program using function concept that maps list of words into a list of integers\n",
    "#representing the lengths of the corresponding words.\n",
    "\n",
    "def string_to_int(x):\n",
    "    return len(x)\n"
   ]
  },
  {
   "cell_type": "code",
   "execution_count": 60,
   "metadata": {},
   "outputs": [
    {
     "data": {
      "text/plain": [
       "[2, 3, 4, 5]"
      ]
     },
     "execution_count": 60,
     "metadata": {},
     "output_type": "execute_result"
    }
   ],
   "source": [
    "list_string=[\"ab\",\"abc\",\"abcd\",\"abcde\"]\n",
    "\n",
    "list(map(string_to_int , list_string))\n"
   ]
  },
  {
   "cell_type": "code",
   "execution_count": 98,
   "metadata": {},
   "outputs": [],
   "source": [
    "# Write a function filter_long_words() that takes a list of words and an integer n and returns\n",
    "#the list of words that are longer than n.\n",
    "\n",
    "def filter_long_words(word, intgr):\n",
    "    \n",
    "    newlist=[]\n",
    "    for i in word :\n",
    "\n",
    "        if len(i) > intgr :\n",
    "            newlist.append(i)\n",
    "            \n",
    "    return newlist\n"
   ]
  },
  {
   "cell_type": "code",
   "execution_count": 97,
   "metadata": {},
   "outputs": [
    {
     "name": "stdout",
     "output_type": "stream",
     "text": [
      "['ash', 'show', 'snow']\n"
     ]
    }
   ],
   "source": [
    "words_list=[\"a\",\"ash\",\"show\",\"snow\",\"so\"]\n",
    "intr=2\n",
    "dlist=filter_long_words(words_list,intr)\n",
    "print(dlist)"
   ]
  },
  {
   "cell_type": "code",
   "execution_count": 197,
   "metadata": {},
   "outputs": [],
   "source": [
    "#Write a Python Program(with class concepts) to find the area of the triangle using the below\n",
    "#formula.\n",
    "#area = (s*(s-a)*(s-b)*(s-c)) ** 0.5\n",
    "\n",
    "\n",
    "class Triangle:\n",
    "    def inputdata(self):\n",
    "       \n",
    "        self.a=float(input(\"enter first side  :\"))\n",
    "        self.b=float(input(\"enter second side  :\"))\n",
    "        self.c=float(input(\"enter third side  :\"))\n",
    "            \n",
    "        return self.a ,self.b ,self.c   "
   ]
  },
  {
   "cell_type": "code",
   "execution_count": 198,
   "metadata": {},
   "outputs": [],
   "source": [
    "class Triclass(Triangle):\n",
    "    def areacalc(self,a,b,c):\n",
    "        self.a=a\n",
    "        self.b=b\n",
    "        self.c=c\n",
    "        s=(self.a+self.b+self.c)/2\n",
    "        \n",
    "        area=(s*(s-self.a)*(s-self.b)*(s-self.c)) ** 0.5\n",
    "        \n",
    "        print(\"Area of the triangle is  \", area)\n",
    "   "
   ]
  },
  {
   "cell_type": "code",
   "execution_count": 199,
   "metadata": {},
   "outputs": [
    {
     "name": "stdout",
     "output_type": "stream",
     "text": [
      "enter first side  :20\n",
      "enter second side  :20\n",
      "enter third side  :10\n",
      "Area of the triangle is   96.82458365518542\n"
     ]
    }
   ],
   "source": [
    "\n",
    "triobj=Triclass()\n",
    "a,b,c= triobj.inputdata()\n",
    "triobj.areacalc(a,b,c)"
   ]
  },
  {
   "cell_type": "code",
   "execution_count": null,
   "metadata": {},
   "outputs": [],
   "source": []
  },
  {
   "cell_type": "code",
   "execution_count": null,
   "metadata": {},
   "outputs": [],
   "source": []
  },
  {
   "cell_type": "code",
   "execution_count": null,
   "metadata": {},
   "outputs": [],
   "source": []
  }
 ],
 "metadata": {
  "kernelspec": {
   "display_name": "Python 3",
   "language": "python",
   "name": "python3"
  },
  "language_info": {
   "codemirror_mode": {
    "name": "ipython",
    "version": 3
   },
   "file_extension": ".py",
   "mimetype": "text/x-python",
   "name": "python",
   "nbconvert_exporter": "python",
   "pygments_lexer": "ipython3",
   "version": "3.8.3"
  }
 },
 "nbformat": 4,
 "nbformat_minor": 4
}
